{
 "cells": [
  {
   "cell_type": "markdown",
   "metadata": {},
   "source": [
    "# Question 1\n",
    "### Input Format\n",
    "\n",
    "You do not need to read any input in this challenge.\n",
    "\n",
    "### Output Format\n",
    "\n",
    "Print Hello, World! to stdout.\n",
    "\n",
    "### Sample Output 0\n",
    "\n",
    "Hello, World!\n",
    "\n"
   ]
  },
  {
   "cell_type": "code",
   "execution_count": 1,
   "metadata": {},
   "outputs": [
    {
     "name": "stdout",
     "output_type": "stream",
     "text": [
      "Hello, World!\n"
     ]
    }
   ],
   "source": [
    "print(\"Hello, World!\")"
   ]
  },
  {
   "cell_type": "markdown",
   "metadata": {},
   "source": [
    "# Question 2 (If_else)\n",
    "Given an integer, n,perform the following conditional actions:\n",
    "If n is odd, print Weird\n",
    "If n is even and in the inclusive range of 2 to 5, print Not Weird\n",
    "If n is even and in the inclusive range of 6 to 20, print Weird\n",
    "If n is even and greater than 20, print Not Weird\n",
    "\n",
    "### Input Format\n",
    "\n",
    "A single line containing a positive integer,n.\n",
    "\n",
    "Constraints\n",
    " 1 <= n <= 100\n",
    "Output Format\n",
    "\n",
    "Print Weird if the number is weird. Otherwise, print Not Weird.\n",
    "\n",
    "### Sample Input :\n",
    "\n",
    "3\n",
    "\n",
    "### Sample Output :\n",
    "\n",
    "Weird\n",
    "\n"
   ]
  },
  {
   "cell_type": "code",
   "execution_count": 15,
   "metadata": {},
   "outputs": [
    {
     "name": "stdout",
     "output_type": "stream",
     "text": [
      "47\n",
      "Weird\n"
     ]
    }
   ],
   "source": [
    "import math\n",
    "import os\n",
    "import random\n",
    "import re\n",
    "import sys\n",
    "\n",
    "\n",
    "\n",
    "if __name__ == '__main__':\n",
    "    n = int(input().strip())\n",
    "#for n in range(1, 100):\n",
    "    if (n % 2) != 0:\n",
    "        print(\"Weird\")\n",
    "    else:\n",
    "        if (n >= 2) & (n <= 5):\n",
    "            print(\"Not Weird\")\n",
    "        elif (n >= 6) & (n <= 20):\n",
    "            print(\"Weird\")\n",
    "        else:\n",
    "            print(\"Not Weird\")\n"
   ]
  },
  {
   "cell_type": "markdown",
   "metadata": {},
   "source": [
    "# Question 3 (Arithmatic Operators)\n",
    "The provided code stub reads two integers from STDIN, a and b. \n",
    "Add code to print three lines where:\n",
    "    -The first line contains the sum of the two numbers.\n",
    "    -The second line contains the difference of the two numbers (first - second).\n",
    "    -The third line contains the product of the two numbers.\n",
    "\n",
    "Example\n",
    "a = 3\n",
    "b = 5\n",
    "\n",
    "Print the following:\n",
    "\n",
    "8\n",
    "-2\n",
    "15\n",
    "\n",
    "### Input Format\n",
    "\n",
    "The first line contains the first integer, a.\n",
    "The second line contains the second integer,b.\n",
    "\n",
    "### Output Format\n",
    "\n",
    "Print the three lines as explained above.\n",
    "\n",
    "### Sample Input :\n",
    "\n",
    "3\n",
    "2\n",
    "\n",
    "### Sample Output :\n",
    "\n",
    "5\n",
    "1\n",
    "6\n",
    "\n"
   ]
  },
  {
   "cell_type": "code",
   "execution_count": 16,
   "metadata": {},
   "outputs": [
    {
     "name": "stdout",
     "output_type": "stream",
     "text": [
      "4\n",
      "5\n",
      "9\n",
      "-1\n",
      "20\n"
     ]
    }
   ],
   "source": [
    "if __name__ == '__main__':\n",
    "    a = int(input())\n",
    "    b = int(input())\n",
    "    print(a + b)\n",
    "    print(a - b)\n",
    "    print(a * b)"
   ]
  },
  {
   "cell_type": "markdown",
   "metadata": {},
   "source": [
    "# Question 4(Python - Division)\n",
    "The provided code stub reads two integers, a and b, from STDIN.\n",
    "Add logic to print two lines. The first line should contain the result of integer division, a // b. The second line should contain the result of float division, a / b.\n",
    "\n",
    "No rounding or formatting is necessary.\n",
    "\n",
    "Example\n",
    "a = 3\n",
    "b = 5\n",
    "The result of the integer division 3 // 5 = 0\n",
    "The result of the float division is 3 / 5 = 0.6\n",
    "\n",
    "\n",
    "Print:\n",
    "\n",
    "0\n",
    "0.6\n",
    "\n",
    "### Input Format\n",
    "\n",
    "The first line contains the first integer,a.\n",
    "The second line contains the second integer,b.\n",
    "\n",
    "### Output Format\n",
    "\n",
    "Print the two lines as described above.\n",
    "\n",
    "### Sample Input 0\n",
    "\n",
    "4\n",
    "3\n",
    "\n",
    "### Sample Output 0\n",
    "\n",
    "1\n",
    "1.33333333333\n",
    "\n"
   ]
  },
  {
   "cell_type": "code",
   "execution_count": 17,
   "metadata": {},
   "outputs": [
    {
     "name": "stdout",
     "output_type": "stream",
     "text": [
      "5\n",
      "2\n",
      "2\n",
      "2.5\n"
     ]
    }
   ],
   "source": [
    "if __name__ == '__main__':\n",
    "    a = int(input())\n",
    "    b = int(input())\n",
    "    print(a // b)\n",
    "    print(a / b)"
   ]
  },
  {
   "cell_type": "markdown",
   "metadata": {},
   "source": [
    "# Question 5 (Loops)\n",
    "The provided code stub reads and integer,n, from STDIN. For all non-negative integers i < n, print i^2.\n",
    "\n",
    "Example\n",
    "n = 3\n",
    "The list of non-negative integers that are less than is n = [0,1,2]. Print the square of each number on a separate line.\n",
    "\n",
    "0\n",
    "1\n",
    "4\n",
    "\n",
    "Input Format\n",
    "\n",
    "The first and only line contains the integer,n.\n",
    "\n",
    "Output Format\n",
    "\n",
    "Print n lines, one corresponding to each i.\n",
    "\n",
    "Sample Input 0\n",
    "\n",
    "5\n",
    "\n",
    "Sample Output 0\n",
    "\n",
    "0\n",
    "1\n",
    "4\n",
    "9\n",
    "16\n",
    "\n"
   ]
  },
  {
   "cell_type": "code",
   "execution_count": 20,
   "metadata": {},
   "outputs": [
    {
     "name": "stdout",
     "output_type": "stream",
     "text": [
      "2\n",
      "0\n",
      "1\n"
     ]
    }
   ],
   "source": [
    "if __name__ == '__main__':\n",
    "    n = int(input())\n",
    "    for i in range (0, n):\n",
    "        print(i * i)\n",
    "        i += 1\n"
   ]
  },
  {
   "cell_type": "markdown",
   "metadata": {},
   "source": [
    "# Question 6 (Print Function)\n",
    "The included code stub will read an integer,n, from STDIN.Without using any string methods, try to print the following:\n",
    "123...n\n",
    "Note that \"...\" represents the consecutive values in between.\n",
    "\n",
    "Example\n",
    "n = 5\n",
    "Print the string 12345\n",
    "\n",
    "### Input Format\n",
    "\n",
    "The first line contains an integer n.\n",
    "\n",
    "### Output Format\n",
    "\n",
    "Print the list of integers from 1 through n as a string, without spaces.\n",
    "\n",
    "### Sample Input 0\n",
    "\n",
    "3\n",
    "\n",
    "### Sample Output 0\n",
    "\n",
    "123\n",
    "\n"
   ]
  },
  {
   "cell_type": "code",
   "execution_count": 26,
   "metadata": {
    "scrolled": true
   },
   "outputs": [
    {
     "name": "stdout",
     "output_type": "stream",
     "text": [
      "5\n",
      "12345"
     ]
    }
   ],
   "source": [
    "if __name__ == '__main__':\n",
    "    n = int(input())\n",
    "    for i in range (1, n+1):\n",
    "        print(i,end='')"
   ]
  },
  {
   "cell_type": "markdown",
   "metadata": {},
   "source": [
    "# Question 7 (Write a function)\n",
    "\n",
    "An extra day is added to the calendar almost every four years as February 29, and the day is called a leap day. It corrects the calendar for the fact that our planet takes approximately 365.25 days to orbit the sun. A leap year contains a leap day.\n",
    "\n",
    "In the Gregorian calendar, three conditions are used to identify leap years:\n",
    "\n",
    "    -The year can be evenly divided by 4, is a leap year, unless:\n",
    "    -The year can be evenly divided by 100, it is NOT a leap year, unless:\n",
    "    -The year is also evenly divisible by 400. Then it is a leap year.\n",
    "\n",
    "This means that in the Gregorian calendar, the years 2000 and 2400 are leap years, while 1800, 1900, 2100, 2200, 2300 and 2500 are NOT leap years. Source\n",
    "\n",
    "Task\n",
    "\n",
    "Given a year, determine whether it is a leap year. If it is a leap year, return the Boolean True, otherwise return False.\n",
    "\n",
    "Note that the code stub provided reads from STDIN and passes arguments to the is_leap function. It is only necessary to complete the is_leap function.\n",
    "\n",
    "Input Format\n",
    "\n",
    "Read\n",
    "\n",
    ", the year to test.\n",
    "\n",
    "Constraints\n",
    "\n",
    "Output Format\n",
    "\n",
    "The function must return a Boolean value (True/False). Output is handled by the provided code stub.\n",
    "\n",
    "Sample Input 0\n",
    "\n",
    "1990\n",
    "\n",
    "Sample Output 0\n",
    "\n",
    "False\n",
    "\n"
   ]
  },
  {
   "cell_type": "code",
   "execution_count": 40,
   "metadata": {},
   "outputs": [
    {
     "name": "stdout",
     "output_type": "stream",
     "text": [
      "2000\n",
      "False\n"
     ]
    }
   ],
   "source": [
    "def is_leap(year):\n",
    "    leap = False\n",
    "    \n",
    "    # Write your logic here\n",
    "    if (year % 4) == 0:\n",
    "        if (year % 100) == 0:\n",
    "            leap = False\n",
    "            return leap\n",
    "       # elif(year % 400) == 0:\n",
    "        #    leap = True\n",
    "         #   return leap\n",
    "        else:\n",
    "            leap = True\n",
    "            return leap\n",
    "    else:\n",
    "        return leap\n",
    "        \n",
    "    \n",
    "\n",
    "year = int(input())\n",
    "print(is_leap(year))"
   ]
  },
  {
   "cell_type": "code",
   "execution_count": null,
   "metadata": {},
   "outputs": [],
   "source": []
  }
 ],
 "metadata": {
  "kernelspec": {
   "display_name": "Python 3",
   "language": "python",
   "name": "python3"
  },
  "language_info": {
   "codemirror_mode": {
    "name": "ipython",
    "version": 3
   },
   "file_extension": ".py",
   "mimetype": "text/x-python",
   "name": "python",
   "nbconvert_exporter": "python",
   "pygments_lexer": "ipython3",
   "version": "3.7.4"
  }
 },
 "nbformat": 4,
 "nbformat_minor": 2
}
